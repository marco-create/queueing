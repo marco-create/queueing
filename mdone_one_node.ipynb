{
 "cells": [
  {
   "cell_type": "code",
   "execution_count": 12,
   "metadata": {},
   "outputs": [],
   "source": [
    "import random\n",
    "import numpy as np\n",
    "import queueing_tool as qt\n",
    "import pandas as pd"
   ]
  },
  {
   "cell_type": "markdown",
   "metadata": {},
   "source": [
    "Define service function"
   ]
  },
  {
   "cell_type": "code",
   "execution_count": 13,
   "metadata": {},
   "outputs": [],
   "source": [
    "def service_f(t: float):\n",
    "    \"\"\"Define deterministic service time.\\n\n",
    "    Take the arrival time as t and add a constant.\n",
    "\n",
    "    Args:\n",
    "        t (float): current time\n",
    "    \"\"\"\n",
    "    return t + 0.0000012\n",
    "\n",
    "def identity(t: float):\n",
    "    \"\"\"Handler function for returning the current time\n",
    "\n",
    "    Args:\n",
    "        t (float): current time\n",
    "\n",
    "    Returns:\n",
    "        (float): current time\n",
    "    \"\"\"\n",
    "    return t"
   ]
  },
  {
   "cell_type": "markdown",
   "metadata": {},
   "source": [
    "Define arrival functions"
   ]
  },
  {
   "cell_type": "code",
   "execution_count": 14,
   "metadata": {},
   "outputs": [],
   "source": [
    "def arr_slow(t: float):\n",
    "    \"\"\"Return arrival time with slow rate\n",
    "\n",
    "    Args:\n",
    "        t (float): current time\n",
    "\n",
    "    Returns:\n",
    "        (float): arrival time\n",
    "    \"\"\"\n",
    "    return t + random.expovariate(lambd=125)\n",
    "    # return t + random.expovariate(lambd=1.0/33333.3333)\n",
    "\n",
    "def arr_fast(t: float):\n",
    "    \"\"\"Return arrival time with fast rate\n",
    "\n",
    "    Args:\n",
    "        t (float): current time\n",
    "\n",
    "    Returns:\n",
    "        (float): arrival time\n",
    "    \"\"\"\n",
    "    return t + random.expovariate(lambd=500)\n",
    "    # return t + random.expovariate(lambd=1.0/633333.667)"
   ]
  },
  {
   "cell_type": "markdown",
   "metadata": {},
   "source": [
    "Define the two agents:\n",
    "- slow agents that go through the whole system\n",
    "- fast agents that overload the system and leave"
   ]
  },
  {
   "cell_type": "code",
   "execution_count": 15,
   "metadata": {},
   "outputs": [],
   "source": [
    "class FastAgent(qt.Agent):\n",
    "    def __init__(self, agent_id=(0, 0)):\n",
    "        super().__init__(agent_id)\n",
    "        self.agent_id = (agent_id[0], agent_id[1], 'fast')\n",
    "        \n",
    "class SlowAgent(qt.Agent):\n",
    "    def __init__(self, agent_id=(0, 0)):\n",
    "        super().__init__(agent_id)\n",
    "        self.agent_id = (agent_id[0], agent_id[1], 'slow')"
   ]
  },
  {
   "cell_type": "markdown",
   "metadata": {},
   "source": [
    "System definition\n",
    "\n",
    "```mermaid\n",
    "---\n",
    "title: One-node M/D/1 system\n",
    "---\n",
    "  graph LR;\n",
    "  A(\"Entry point\")\n",
    "  B(\"Leaving point\")\n",
    "  λ0(\"slow λ\")\n",
    "  λ1(\"fast λ\")\n",
    "\n",
    "      λ0 --> A\n",
    "      λ1 --> node\n",
    "      A --> node --> B\n",
    "```"
   ]
  },
  {
   "cell_type": "markdown",
   "metadata": {},
   "source": [
    "Network definition"
   ]
  },
  {
   "cell_type": "code",
   "execution_count": 16,
   "metadata": {},
   "outputs": [],
   "source": [
    "# Prepare the one-node network\n",
    "q_classes = { 1: qt.QueueServer, 2: qt.QueueServer, 2: qt.QueueServer }\n",
    "\n",
    "adja_list = {\n",
    "    0: [2],\n",
    "    1: [2],\n",
    "    2: [3]\n",
    "}\n",
    "edge_list = {\n",
    "    0: {2: 1},\n",
    "    1: {2: 2},\n",
    "    2: {3: 3}\n",
    "}\n",
    "g = qt.adjacency2graph(\n",
    "    adjacency=adja_list,\n",
    "    edge_type=edge_list\n",
    ")\n",
    "\n",
    "q_args = {\n",
    "    1: {\n",
    "        'arrival_f': arr_slow,\n",
    "        'service_f': identity,\n",
    "        'AgentFactory': SlowAgent,\n",
    "    },\n",
    "    2: {\n",
    "        'arrival_f': arr_fast,\n",
    "        'service_f': identity,\n",
    "        'AgentFactory': FastAgent,\n",
    "    },\n",
    "    3: {\n",
    "        'service_f': service_f,\n",
    "    },\n",
    "}\n",
    "\n",
    "qn = qt.QueueNetwork(\n",
    "    g= g, q_classes=q_classes, q_args=q_args\n",
    ")"
   ]
  },
  {
   "cell_type": "markdown",
   "metadata": {},
   "source": [
    "Simulate"
   ]
  },
  {
   "cell_type": "code",
   "execution_count": 17,
   "metadata": {},
   "outputs": [],
   "source": [
    "qn.initialize(edge_type=[0, 1, 2])\n",
    "qn.start_collecting_data()\n",
    "qn.simulate(n=200)\n",
    "dat = qn.get_agent_data(return_header=True)"
   ]
  },
  {
   "cell_type": "markdown",
   "metadata": {},
   "source": [
    "Store values"
   ]
  },
  {
   "cell_type": "code",
   "execution_count": 18,
   "metadata": {},
   "outputs": [],
   "source": [
    "slow_l = []\n",
    "fast_l = []\n",
    "for k, v in dat[0].items():\n",
    "    if k[2] == 'slow':\n",
    "        slow_l.append({k: v})\n",
    "    if k[2] == 'fast':\n",
    "        fast_l.append({k: v})"
   ]
  },
  {
   "cell_type": "code",
   "execution_count": 57,
   "metadata": {},
   "outputs": [],
   "source": [
    "# tranform the requests list of dictionaries into dictionary\n",
    "slow_d = {k[1]: v for req in slow_l for k, v in req.items() if len(v) > 2}\n",
    "fast_d = {k[1]: v for req in fast_l for k, v in req.items() if len(v) > 2}"
   ]
  },
  {
   "cell_type": "markdown",
   "metadata": {},
   "source": [
    "First slow request"
   ]
  },
  {
   "cell_type": "code",
   "execution_count": 60,
   "metadata": {},
   "outputs": [
    {
     "name": "stdout",
     "output_type": "stream",
     "text": [
      "[0.09529162971863198, 0.09529162971863198, 0.09529162971863198, 0.0, 1.0, 0.0]\n"
     ]
    }
   ],
   "source": [
    "print([*list(slow_d.items())[-1][1][0]])"
   ]
  },
  {
   "cell_type": "markdown",
   "metadata": {},
   "source": [
    "Last slow request"
   ]
  },
  {
   "cell_type": "code",
   "execution_count": 43,
   "metadata": {},
   "outputs": [
    {
     "data": {
      "text/plain": [
       "[0.09529282971863198, 0.0, 0.0, 0.0, 0.0, 3.0]"
      ]
     },
     "execution_count": 43,
     "metadata": {},
     "output_type": "execute_result"
    }
   ],
   "source": [
    "[*list(slow_d.items())[-1][1][2]]"
   ]
  },
  {
   "cell_type": "markdown",
   "metadata": {},
   "source": [
    "Calculate:\n",
    "- last departure - first arrival"
   ]
  },
  {
   "cell_type": "code",
   "execution_count": 56,
   "metadata": {},
   "outputs": [
    {
     "data": {
      "text/plain": [
       "'0.000001200'"
      ]
     },
     "execution_count": 56,
     "metadata": {},
     "output_type": "execute_result"
    }
   ],
   "source": [
    "format(\n",
    "    float(\n",
    "        [*list(slow_d.items())[-1][1][2]][0] - [*list(slow_d.items())[-1][1][0]][0],\n",
    "    ), '.9f'\n",
    ")"
   ]
  },
  {
   "cell_type": "markdown",
   "metadata": {},
   "source": [
    "Check the same for fast"
   ]
  },
  {
   "cell_type": "code",
   "execution_count": 58,
   "metadata": {},
   "outputs": [
    {
     "data": {
      "text/plain": [
       "'0.000001200'"
      ]
     },
     "execution_count": 58,
     "metadata": {},
     "output_type": "execute_result"
    }
   ],
   "source": [
    "format(\n",
    "    float(\n",
    "        [*list(fast_d.items())[-1][1][2]][0] - [*list(fast_d.items())[-1][1][0]][0],\n",
    "    ), '.9f'\n",
    ")"
   ]
  },
  {
   "cell_type": "code",
   "execution_count": null,
   "metadata": {},
   "outputs": [],
   "source": []
  }
 ],
 "metadata": {
  "kernelspec": {
   "display_name": "venv",
   "language": "python",
   "name": "python3"
  },
  "language_info": {
   "codemirror_mode": {
    "name": "ipython",
    "version": 3
   },
   "file_extension": ".py",
   "mimetype": "text/x-python",
   "name": "python",
   "nbconvert_exporter": "python",
   "pygments_lexer": "ipython3",
   "version": "3.11.2"
  }
 },
 "nbformat": 4,
 "nbformat_minor": 2
}
