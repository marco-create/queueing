{
 "cells": [
  {
   "cell_type": "code",
   "execution_count": 1,
   "metadata": {},
   "outputs": [],
   "source": [
    "import random\n",
    "import queueing_tool as qt\n",
    "import pandas as pd"
   ]
  },
  {
   "cell_type": "markdown",
   "metadata": {},
   "source": [
    "Define service function"
   ]
  },
  {
   "cell_type": "code",
   "execution_count": 2,
   "metadata": {},
   "outputs": [],
   "source": [
    "def ser(t: float):\n",
    "    \"\"\"Define deterministic service time.\\n\n",
    "    Take the arrival time as t and add a constant.\n",
    "\n",
    "    Args:\n",
    "        t (float): current time\n",
    "    \"\"\"\n",
    "    return t + 0.00112"
   ]
  },
  {
   "cell_type": "markdown",
   "metadata": {},
   "source": [
    "Define the two agents:\n",
    "- slow agents that go through the whole system\n",
    "- fast agents that overload the system and leave"
   ]
  },
  {
   "cell_type": "code",
   "execution_count": 3,
   "metadata": {},
   "outputs": [],
   "source": [
    "def ag_slow(label):\n",
    "    return qt.Agent(\n",
    "        arrival_f = lambda t: t + random.expovariate(lambd=125),\n",
    "        agent_id= (0, 0, 'slow')\n",
    ")\n",
    "\n",
    "def ag_fast(label):\n",
    "    return qt.Agent(\n",
    "        arrival_f = lambda t: t + random.expovariate(lambd=500),\n",
    "        agent_id= (0, 0, 'fast')\n",
    ")"
   ]
  },
  {
   "cell_type": "markdown",
   "metadata": {},
   "source": [
    "System definition\n",
    "\n",
    "```mermaid\n",
    "---\n",
    "title: One-node M/D/1 system\n",
    "---\n",
    "  graph LR;\n",
    "  A(\"Entry point\")\n",
    "  B(\"Leaving point\")\n",
    "  λ0(\"slow λ\")\n",
    "  λ1(\"fast λ\")\n",
    "\n",
    "      λ0 --> A\n",
    "      λ1 --> node\n",
    "      A --> node --> B\n",
    "```"
   ]
  },
  {
   "cell_type": "code",
   "execution_count": 19,
   "metadata": {},
   "outputs": [],
   "source": [
    "# Prepare the one-node network\n",
    "q_classes = { 1: qt.QueueServer, 2: qt.QueueServer, 3: qt.QueueServer }\n",
    "\n",
    "adja_list = {\n",
    "    0: [1],\n",
    "    1: [3],\n",
    "    2: [3]\n",
    "}\n",
    "edge_list = {\n",
    "    0: {1: 1},\n",
    "    1: {3: 3},\n",
    "    2: {3: 3}\n",
    "}\n",
    "g = qt.adjacency2graph(\n",
    "    adjacency=adja_list,\n",
    "    edge_type=edge_list\n",
    ")\n",
    "\n",
    "q_args = {\n",
    "    1: {\n",
    "        'service_f': lambda t: t,\n",
    "        'AgentFactory': ag_slow,\n",
    "    },\n",
    "    2: {\n",
    "        'service_f': lambda t: t,\n",
    "        'AgentFactory': ag_fast,\n",
    "    },\n",
    "    3: {\n",
    "        'num_servers': 1,\n",
    "        'service_f': ser,\n",
    "    },\n",
    "}\n",
    "\n",
    "qn = qt.QueueNetwork(\n",
    "    g= g, q_classes=q_classes, q_args=q_args\n",
    ")"
   ]
  },
  {
   "cell_type": "markdown",
   "metadata": {},
   "source": [
    "Simulate"
   ]
  },
  {
   "cell_type": "code",
   "execution_count": 20,
   "metadata": {},
   "outputs": [
    {
     "name": "stdout",
     "output_type": "stream",
     "text": [
      "(0, 0, 'slow')\n",
      "[[ 0.66643346  0.66643346  0.66643346  0.          1.          0.        ]\n",
      " [ 0.66643346  0.66643346  0.66755346  0.          1.          1.        ]\n",
      " [ 0.66755346  0.          0.          0.          0.          3.        ]\n",
      " ...\n",
      " [62.21592812  0.          0.          0.          0.          3.        ]\n",
      " [64.99198248 64.99198248  0.          0.          1.          1.        ]\n",
      " [64.99198248 64.99198248 64.99198248  0.          1.          0.        ]]\n"
     ]
    }
   ],
   "source": [
    "qn.initialize()\n",
    "qn.start_collecting_data()\n",
    "qn.simulate(n=200)\n",
    "dat = qn.get_agent_data(return_header=True)\n",
    "\n",
    "for k, v in dat[0].items():\n",
    "    print(k)\n",
    "    print(v)"
   ]
  },
  {
   "cell_type": "code",
   "execution_count": 21,
   "metadata": {},
   "outputs": [
    {
     "name": "stderr",
     "output_type": "stream",
     "text": [
      "c:\\Users\\marco_\\Documents\\Queueing_project\\queueing\\venv\\Lib\\site-packages\\queueing_tool\\network\\queue_network.py:566: UserWarning: frames=None which we can infer the length of, did not pass an explicit *save_count* and passed cache_frame_data=True.  To avoid a possibly unbounded cache, frame data caching has been disabled. To suppress this warning either pass `cache_frame_data=False` or `save_count=MAX_FRAMES`.\n",
      "  animation = FuncAnimation(**animation_args)\n"
     ]
    },
    {
     "data": {
      "image/png": "[encoded data removed]",
      "text/plain": [
       "<Figure size 700x700 with 1 Axes>"
      ]
     },
     "metadata": {},
     "output_type": "display_data"
    },
    {
     "name": "stderr",
     "output_type": "stream",
     "text": [
      "c:\\Users\\marco_\\Documents\\Queueing_project\\queueing\\venv\\Lib\\site-packages\\matplotlib\\animation.py:892: UserWarning: Animation was deleted without rendering anything. This is most likely not intended. To prevent deletion, assign the Animation to a variable, e.g. `anim`, that exists until you output the Animation using `plt.show()` or `anim.save()`.\n",
      "  warnings.warn(\n"
     ]
    }
   ],
   "source": [
    "qn.animate()"
   ]
  },
  {
   "cell_type": "code",
   "execution_count": null,
   "metadata": {},
   "outputs": [],
   "source": []
  }
 ],
 "metadata": {
  "kernelspec": {
   "display_name": "venv",
   "language": "python",
   "name": "python3"
  },
  "language_info": {
   "codemirror_mode": {
    "name": "ipython",
    "version": 3
   },
   "file_extension": ".py",
   "mimetype": "text/x-python",
   "name": "python",
   "nbconvert_exporter": "python",
   "pygments_lexer": "ipython3",
   "version": "3.11.2"
  }
 },
 "nbformat": 4,
 "nbformat_minor": 2
}
